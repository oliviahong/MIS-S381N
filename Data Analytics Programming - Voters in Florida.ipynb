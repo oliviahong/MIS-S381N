{
 "cells": [
  {
   "cell_type": "markdown",
   "metadata": {},
   "source": [
    "## Voters in Florida"
   ]
  },
  {
   "cell_type": "markdown",
   "metadata": {},
   "source": [
    "First import the re module. Then read in the file one line at a time, extracting the data between the 'td' tags with re.findall, removing the extra quotations and commas in the numbers. Since this results in many lines that are empty, we only include the lines with data. This results in a long list with each element being a string.\n",
    "\n",
    "Then loop through the resulting list, separating every six pieces of information into one group (corresponding to each county). Convert the republican and democrat column data to integers. Finally extract only the three columns we need--county, republican, and democrat. Sort the list by the number of democratic voters, using a lambda function.\n",
    "\n",
    "Finally loop through the list and print each tuple on its own line. Again we remove any extra characters that do not need to be there, such as parentheses, quotations around the county names, and commas between the data."
   ]
  },
  {
   "cell_type": "code",
   "execution_count": 1,
   "metadata": {
    "collapsed": false
   },
   "outputs": [
    {
     "name": "stdout",
     "output_type": "stream",
     "text": [
      "LAFAYETTE 1373 2672\n",
      "GLADES 2190 3110\n",
      "LIBERTY 720 3372\n",
      "UNION 2752 3579\n",
      "GILCHRIST 5789 3652\n",
      "FRANKLIN 2234 4319\n",
      "HOLMES 5282 4434\n",
      "GULF 4234 4521\n",
      "HARDEE 4859 4702\n",
      "HAMILTON 2154 4796\n",
      "DIXIE 3314 4839\n",
      "CALHOUN 2201 5324\n",
      "WASHINGTON 7101 5687\n",
      "JEFFERSON 2636 5802\n",
      "BAKER 6963 5813\n",
      "BRADFORD 6878 6533\n",
      "TAYLOR 3950 6915\n",
      "MADISON 2992 7158\n",
      "DESOTO 4870 7181\n",
      "OKEECHOBEE 7755 7756\n",
      "HENDRY 5862 7999\n",
      "WAKULLA 7374 8889\n",
      "LEVY 11665 9509\n",
      "WALTON 25609 10013\n",
      "SUWANNEE 10745 11126\n",
      "NASSAU 32958 14013\n",
      "COLUMBIA 15790 14797\n",
      "JACKSON 9626 15706\n",
      "MONROE 20602 17614\n",
      "HIGHLANDS 27100 19997\n",
      "PUTNAM 17067 20606\n",
      "GADSDEN 4372 22161\n",
      "SUMTER 47158 22977\n",
      "FLAGLER 30047 24734\n",
      "OKALOOSA 75154 25172\n",
      "SANTA ROSA 73627 26114\n",
      "MARTIN 53800 27358\n",
      "INDIAN RIVER 47794 28204\n",
      "CITRUS 46373 30440\n",
      "BAY 57456 30733\n",
      "CLAY 76584 31285\n",
      "CHARLOTTE 54421 35602\n",
      "ST. JOHNS 88385 39531\n",
      "HERNANDO 51254 42499\n",
      "COLLIER 100167 45511\n",
      "LAKE 93604 67237\n",
      "MANATEE 96063 67926\n",
      "ESCAMBIA 90265 70180\n",
      "OSCEOLA 44594 75657\n",
      "ST. LUCIE 59626 76163\n",
      "MARION 97306 76268\n",
      "ALACHUA 47329 77996\n",
      "SARASOTA 125872 89711\n",
      "SEMINOLE 107833 91686\n",
      "LEON 54554 103140\n",
      "PASCO 125305 104324\n",
      "LEE 180718 114633\n",
      "VOLUSIA 121402 124136\n",
      "BREVARD 167129 127435\n",
      "POLK 140619 143799\n",
      "PINELLAS 223077 221968\n",
      "DUVAL 210195 229501\n",
      "ORANGE 206174 303458\n",
      "HILLSBOROUGH 257436 314265\n",
      "PALM BEACH 245452 367236\n",
      "MIAMI-DADE 362161 539367\n",
      "BROWARD 249762 566185\n",
      "Total 4377713 4637026\n"
     ]
    }
   ],
   "source": [
    "import re\n",
    "\n",
    "fp = open('FloridaVoters.html')\n",
    "\n",
    "lst = []\n",
    "line = fp.readline()\n",
    "for line in fp:\n",
    "    new_data = str(re.findall('<td>([-\\.a-zA-Z0-9,\\s]+)</td>',line)).lstrip('[').rstrip(']')\n",
    "    new_data = new_data.lstrip(\"'\").rstrip(\"'\").replace(\",\",\"\")\n",
    "    if len(new_data) != 0:\n",
    "        lst.append(new_data)\n",
    "fp.close()\n",
    "\n",
    "final_lst = []\n",
    "for i in range(0, len(lst), 6):\n",
    "    group = (lst[i:i + 6])\n",
    "    group[1] = int(group[1])\n",
    "    group[2] = int(group[2])\n",
    "    group = tuple(group[0:3])\n",
    "    final_lst.append(group)\n",
    "sorted_lst = sorted(final_lst, key=lambda x: x[2])\n",
    "\n",
    "for i in sorted_lst:\n",
    "    print str(i).lstrip('(').rstrip(')').replace(\"'\",\"\").replace(\",\",\"\")"
   ]
  }
 ],
 "metadata": {
  "kernelspec": {
   "display_name": "Python [Root]",
   "language": "python",
   "name": "Python [Root]"
  },
  "language_info": {
   "codemirror_mode": {
    "name": "ipython",
    "version": 2
   },
   "file_extension": ".py",
   "mimetype": "text/x-python",
   "name": "python",
   "nbconvert_exporter": "python",
   "pygments_lexer": "ipython2",
   "version": "2.7.12"
  }
 },
 "nbformat": 4,
 "nbformat_minor": 0
}
