{
 "cells": [
  {
   "cell_type": "code",
   "execution_count": 1,
   "metadata": {
    "collapsed": false
   },
   "outputs": [
    {
     "name": "stdout",
     "output_type": "stream",
     "text": [
      "Populating the interactive namespace from numpy and matplotlib\n"
     ]
    }
   ],
   "source": [
    "import pandas as pd\n",
    "import numpy as np\n",
    "from patsy import dmatrices, dmatrix\n",
    "from imblearn.over_sampling import SMOTE \n",
    "from sklearn.model_selection import train_test_split\n",
    "from sklearn.ensemble import RandomForestClassifier\n",
    "from sklearn.metrics import confusion_matrix, roc_auc_score\n",
    "from sklearn.model_selection import GridSearchCV\n",
    "from sklearn.preprocessing import StandardScaler\n",
    "from sklearn.neural_network import MLPClassifier\n",
    "from sklearn.linear_model import LogisticRegression\n",
    "\n",
    "%pylab inline"
   ]
  },
  {
   "cell_type": "markdown",
   "metadata": {},
   "source": [
    "# Questions\n",
    "\n",
    "1. I chose a random forest model with parameters such as:\n",
    "            criterion='gini',\n",
    "            max_depth=None, max_features='sqrt', max_leaf_nodes=None,\n",
    "            min_impurity_split=1e-07, min_samples_leaf=1,\n",
    "            min_samples_split=2, min_weight_fraction_leaf=0.0,\n",
    "            n_estimators=300\n",
    "    \n",
    "    I chose this model because it gave the fewest number of misclassifications. Although logistic gave the highest AUC, it seemed to predict the minority class too often.\n",
    "\n",
    "2. I tried other models such as neural network and logistic regression. I think random forest does well in this case because it tends to be an accurate classifier, and ensembling/averaging makes overfitting less likeley.\n",
    "\n",
    "3. I handled missing data for age and schooling, and for categorical variables with missing values I coded them as 'unknown'. For age, I imputed with the mean age for each profession, and schooling I imputed with the mode schooling for each profession. Because profession could be a decent indicator for age and schooling.\n",
    "\n",
    "4. I handled categorical data by converting them to dummy variables.\n",
    "\n",
    "5. I handled unbalanced data by using weights associated with the classes, instead of giving all classes weight one. The “balanced” mode I am using uses the values of y to automatically adjust weights inversely proportional to class frequencies in the input data. For the neural network model, I tried SMOTE.\n",
    "\n",
    "6. I tested my model by splitting a train and test set (70-30% ratio). I got some optimal parameters through cross-validation, and then tested the fitted model on the test set."
   ]
  },
  {
   "cell_type": "code",
   "execution_count": 2,
   "metadata": {
    "collapsed": false
   },
   "outputs": [
    {
     "data": {
      "text/html": [
       "<div>\n",
       "<table border=\"1\" class=\"dataframe\">\n",
       "  <thead>\n",
       "    <tr style=\"text-align: right;\">\n",
       "      <th></th>\n",
       "      <th>custAge</th>\n",
       "      <th>profession</th>\n",
       "      <th>marital</th>\n",
       "      <th>schooling</th>\n",
       "      <th>default</th>\n",
       "      <th>housing</th>\n",
       "      <th>loan</th>\n",
       "      <th>contact</th>\n",
       "      <th>month</th>\n",
       "      <th>day_of_week</th>\n",
       "      <th>...</th>\n",
       "      <th>previous</th>\n",
       "      <th>poutcome</th>\n",
       "      <th>erate</th>\n",
       "      <th>cpi</th>\n",
       "      <th>cci</th>\n",
       "      <th>euribor3m</th>\n",
       "      <th>nremploy</th>\n",
       "      <th>pmonths</th>\n",
       "      <th>pastEmail</th>\n",
       "      <th>responded</th>\n",
       "    </tr>\n",
       "  </thead>\n",
       "  <tbody>\n",
       "    <tr>\n",
       "      <th>0</th>\n",
       "      <td>55.0</td>\n",
       "      <td>admin.</td>\n",
       "      <td>single</td>\n",
       "      <td>university.degree</td>\n",
       "      <td>unknown</td>\n",
       "      <td>no</td>\n",
       "      <td>no</td>\n",
       "      <td>cellular</td>\n",
       "      <td>nov</td>\n",
       "      <td>mon</td>\n",
       "      <td>...</td>\n",
       "      <td>0</td>\n",
       "      <td>nonexistent</td>\n",
       "      <td>-0.1</td>\n",
       "      <td>93.200</td>\n",
       "      <td>-42.0</td>\n",
       "      <td>4.191</td>\n",
       "      <td>5195.8</td>\n",
       "      <td>999.0</td>\n",
       "      <td>0</td>\n",
       "      <td>no</td>\n",
       "    </tr>\n",
       "    <tr>\n",
       "      <th>1</th>\n",
       "      <td>NaN</td>\n",
       "      <td>blue-collar</td>\n",
       "      <td>married</td>\n",
       "      <td>NaN</td>\n",
       "      <td>no</td>\n",
       "      <td>no</td>\n",
       "      <td>no</td>\n",
       "      <td>cellular</td>\n",
       "      <td>jul</td>\n",
       "      <td>mon</td>\n",
       "      <td>...</td>\n",
       "      <td>0</td>\n",
       "      <td>nonexistent</td>\n",
       "      <td>1.4</td>\n",
       "      <td>93.918</td>\n",
       "      <td>-42.7</td>\n",
       "      <td>4.960</td>\n",
       "      <td>5228.1</td>\n",
       "      <td>999.0</td>\n",
       "      <td>0</td>\n",
       "      <td>no</td>\n",
       "    </tr>\n",
       "    <tr>\n",
       "      <th>2</th>\n",
       "      <td>42.0</td>\n",
       "      <td>technician</td>\n",
       "      <td>married</td>\n",
       "      <td>high.school</td>\n",
       "      <td>no</td>\n",
       "      <td>no</td>\n",
       "      <td>no</td>\n",
       "      <td>telephone</td>\n",
       "      <td>may</td>\n",
       "      <td>mon</td>\n",
       "      <td>...</td>\n",
       "      <td>0</td>\n",
       "      <td>nonexistent</td>\n",
       "      <td>1.1</td>\n",
       "      <td>93.994</td>\n",
       "      <td>-36.4</td>\n",
       "      <td>4.857</td>\n",
       "      <td>5191.0</td>\n",
       "      <td>999.0</td>\n",
       "      <td>0</td>\n",
       "      <td>no</td>\n",
       "    </tr>\n",
       "    <tr>\n",
       "      <th>3</th>\n",
       "      <td>55.0</td>\n",
       "      <td>management</td>\n",
       "      <td>divorced</td>\n",
       "      <td>NaN</td>\n",
       "      <td>unknown</td>\n",
       "      <td>yes</td>\n",
       "      <td>yes</td>\n",
       "      <td>cellular</td>\n",
       "      <td>jul</td>\n",
       "      <td>wed</td>\n",
       "      <td>...</td>\n",
       "      <td>0</td>\n",
       "      <td>nonexistent</td>\n",
       "      <td>1.4</td>\n",
       "      <td>93.918</td>\n",
       "      <td>-42.7</td>\n",
       "      <td>4.962</td>\n",
       "      <td>5228.1</td>\n",
       "      <td>999.0</td>\n",
       "      <td>0</td>\n",
       "      <td>no</td>\n",
       "    </tr>\n",
       "    <tr>\n",
       "      <th>4</th>\n",
       "      <td>NaN</td>\n",
       "      <td>admin.</td>\n",
       "      <td>divorced</td>\n",
       "      <td>university.degree</td>\n",
       "      <td>no</td>\n",
       "      <td>yes</td>\n",
       "      <td>no</td>\n",
       "      <td>cellular</td>\n",
       "      <td>may</td>\n",
       "      <td>tue</td>\n",
       "      <td>...</td>\n",
       "      <td>1</td>\n",
       "      <td>failure</td>\n",
       "      <td>-1.8</td>\n",
       "      <td>92.893</td>\n",
       "      <td>-46.2</td>\n",
       "      <td>1.291</td>\n",
       "      <td>5099.1</td>\n",
       "      <td>999.0</td>\n",
       "      <td>1</td>\n",
       "      <td>no</td>\n",
       "    </tr>\n",
       "  </tbody>\n",
       "</table>\n",
       "<p>5 rows × 22 columns</p>\n",
       "</div>"
      ],
      "text/plain": [
       "   custAge   profession   marital          schooling  default housing loan  \\\n",
       "0     55.0       admin.    single  university.degree  unknown      no   no   \n",
       "1      NaN  blue-collar   married                NaN       no      no   no   \n",
       "2     42.0   technician   married        high.school       no      no   no   \n",
       "3     55.0   management  divorced                NaN  unknown     yes  yes   \n",
       "4      NaN       admin.  divorced  university.degree       no     yes   no   \n",
       "\n",
       "     contact month day_of_week    ...      previous     poutcome  erate  \\\n",
       "0   cellular   nov         mon    ...             0  nonexistent   -0.1   \n",
       "1   cellular   jul         mon    ...             0  nonexistent    1.4   \n",
       "2  telephone   may         mon    ...             0  nonexistent    1.1   \n",
       "3   cellular   jul         wed    ...             0  nonexistent    1.4   \n",
       "4   cellular   may         tue    ...             1      failure   -1.8   \n",
       "\n",
       "      cpi   cci  euribor3m  nremploy  pmonths  pastEmail  responded  \n",
       "0  93.200 -42.0      4.191    5195.8    999.0          0         no  \n",
       "1  93.918 -42.7      4.960    5228.1    999.0          0         no  \n",
       "2  93.994 -36.4      4.857    5191.0    999.0          0         no  \n",
       "3  93.918 -42.7      4.962    5228.1    999.0          0         no  \n",
       "4  92.893 -46.2      1.291    5099.1    999.0          1         no  \n",
       "\n",
       "[5 rows x 22 columns]"
      ]
     },
     "execution_count": 2,
     "metadata": {},
     "output_type": "execute_result"
    }
   ],
   "source": [
    "df = pd.read_csv('marketing_training.csv')\n",
    "df = df.rename(columns={'emp.var.rate': 'erate', 'cons.price.idx': 'cpi', 'cons.conf.idx':'cci', 'nr.employed':'nremploy'})\n",
    "df.head()"
   ]
  },
  {
   "cell_type": "code",
   "execution_count": 3,
   "metadata": {
    "collapsed": false
   },
   "outputs": [
    {
     "data": {
      "text/plain": [
       "<matplotlib.axes._subplots.AxesSubplot at 0xb5fccc0>"
      ]
     },
     "execution_count": 3,
     "metadata": {},
     "output_type": "execute_result"
    },
    {
     "data": {
      "image/png": "[encoded data removed]",
      "text/plain": [
       "<matplotlib.figure.Figure at 0x407fb00>"
      ]
     },
     "metadata": {},
     "output_type": "display_data"
    }
   ],
   "source": [
    "# imbalanced data\n",
    "df['responded'].value_counts().plot(kind='bar')"
   ]
  },
  {
   "cell_type": "code",
   "execution_count": 4,
   "metadata": {
    "collapsed": false
   },
   "outputs": [
    {
     "data": {
      "text/plain": [
       "profession\n",
       "retired          62.741525\n",
       "unknown          47.955556\n",
       "housemaid        47.207143\n",
       "management       42.044444\n",
       "entrepreneur     41.341014\n",
       "self-employed    40.102041\n",
       "blue-collar      39.260125\n",
       "unemployed       38.878788\n",
       "services         38.577206\n",
       "technician       38.093509\n",
       "admin.           38.067626\n",
       "student          26.366071\n",
       "Name: custAge, dtype: float64"
      ]
     },
     "execution_count": 4,
     "metadata": {},
     "output_type": "execute_result"
    }
   ],
   "source": [
    "# missing values exploration - fill age with mean by profession\n",
    "df.groupby(\"profession\")['custAge'].mean().sort_values(ascending=False)"
   ]
  },
  {
   "cell_type": "code",
   "execution_count": 5,
   "metadata": {
    "collapsed": false
   },
   "outputs": [
    {
     "data": {
      "text/plain": [
       "profession\n",
       "admin.             university.degree\n",
       "blue-collar                 basic.9y\n",
       "entrepreneur       university.degree\n",
       "housemaid                   basic.4y\n",
       "management         university.degree\n",
       "retired                     basic.4y\n",
       "self-employed      university.degree\n",
       "services                 high.school\n",
       "student                  high.school\n",
       "technician       professional.course\n",
       "unemployed               high.school\n",
       "unknown                      unknown\n",
       "Name: schooling, dtype: object"
      ]
     },
     "execution_count": 5,
     "metadata": {},
     "output_type": "execute_result"
    }
   ],
   "source": [
    "# missing values exploration - fill schooling with most commonly occuring by profession\n",
    "school = df.groupby(\"profession\")['schooling'].agg(lambda x:x.value_counts().index[0])\n",
    "school"
   ]
  },
  {
   "cell_type": "code",
   "execution_count": 6,
   "metadata": {
    "collapsed": false
   },
   "outputs": [],
   "source": [
    "# missing values\n",
    "\n",
    "def missingvalues(df_name):\n",
    "    df_name[\"custAge\"] = df_name.groupby(\"profession\").transform(lambda x: x.fillna(x.mean()))\n",
    "    df_name[\"custAge\"] = df_name['custAge'].apply(lambda x: round(x,0))\n",
    "    \n",
    "    school = df_name.groupby(\"profession\")['schooling'].agg(lambda x:x.value_counts().index[0])\n",
    "    def fillschool(x):    \n",
    "        if pd.isnull(x['schooling']):\n",
    "            return school[x['profession']]\n",
    "        else:\n",
    "            return x['schooling']\n",
    "    df_name['schooling'] = df_name.apply(fillschool, axis=1)\n",
    "\n",
    "    # create category for unknown values\n",
    "    df_name['day_of_week'] = df_name['day_of_week'].fillna('unknown')\n",
    "    return df_name\n",
    "df = missingvalues(df)"
   ]
  },
  {
   "cell_type": "code",
   "execution_count": 7,
   "metadata": {
    "collapsed": false
   },
   "outputs": [
    {
     "data": {
      "text/plain": [
       "nremploy  responded\n",
       "4963.6    no             77\n",
       "          yes            61\n",
       "4991.6    no             80\n",
       "          yes            72\n",
       "5008.7    no             45\n",
       "          yes            68\n",
       "5017.5    no            102\n",
       "          yes            84\n",
       "5023.5    no             11\n",
       "          yes            15\n",
       "5076.2    no            198\n",
       "          yes            95\n",
       "5099.1    no           1371\n",
       "          yes           228\n",
       "5176.3    no              1\n",
       "5191.0    no           1353\n",
       "          yes            44\n",
       "5195.8    no            638\n",
       "          yes            36\n",
       "5228.1    no           2698\n",
       "          yes           137\n",
       "dtype: int64"
      ]
     },
     "execution_count": 7,
     "metadata": {},
     "output_type": "execute_result"
    }
   ],
   "source": [
    "# exploring variables\n",
    "df.groupby([\"nremploy\", \"responded\"]).size()"
   ]
  },
  {
   "cell_type": "code",
   "execution_count": 8,
   "metadata": {
    "collapsed": false
   },
   "outputs": [],
   "source": [
    "# binning values\n",
    "\n",
    "def binningvalues(df_name):\n",
    "    def bindata(colname, bins, group_names):\n",
    "        categories = pd.cut(df_name[colname], bins, labels=group_names)\n",
    "        df_name[colname+'_bin'] = pd.cut(df_name[colname], bins, labels=group_names)\n",
    "\n",
    "    bindata('custAge', [0, 30, 40, 50, 60, 1000], ['20s','30s','40s','50s','60+'])\n",
    "    bindata('campaign', [0, 3, 8, 100], ['low','med','high'])\n",
    "    bindata('pdays', [-1, 7, 900, 1000], ['one wk','more than 1 wk','not contacted'])\n",
    "\n",
    "    df_name.loc[df_name['schooling']=='basic.4y', 'schooling'] = 'up to hs'\n",
    "    df_name.loc[df_name['schooling']=='basic.6y', 'schooling'] = 'up to hs'\n",
    "    df_name.loc[df_name['schooling']=='basic.9y', 'schooling'] = 'up to hs'\n",
    "    df_name.loc[df_name['schooling']=='high.school', 'schooling'] = 'up to hs'\n",
    "\n",
    "    df_name.loc[df_name['poutcome']=='nonexistent', 'poutcome'] = 'failure'\n",
    "    return df_name\n",
    "df = binningvalues(df)"
   ]
  },
  {
   "cell_type": "code",
   "execution_count": 9,
   "metadata": {
    "collapsed": false
   },
   "outputs": [],
   "source": [
    "# modeling\n",
    "\n",
    "formula = 'responded ~ C(custAge_bin) + C(profession) + C(marital) + C(schooling) + C(default) + C(housing) + C(loan) +\\\n",
    "C(contact) + C(month) + C(campaign_bin) + C(pdays_bin) + C(poutcome) + erate + cpi + cci + euribor3m + nremploy'\n",
    "\n",
    "y, X = dmatrices(formula, df, return_type='dataframe')\n",
    "y = y['responded[yes]'].values"
   ]
  },
  {
   "cell_type": "code",
   "execution_count": 10,
   "metadata": {
    "collapsed": false
   },
   "outputs": [
    {
     "data": {
      "text/plain": [
       "0.0    6574\n",
       "1.0     840\n",
       "Name: 0, dtype: int64"
      ]
     },
     "execution_count": 10,
     "metadata": {},
     "output_type": "execute_result"
    }
   ],
   "source": [
    "pd.DataFrame(y)[0].value_counts()"
   ]
  },
  {
   "cell_type": "code",
   "execution_count": 11,
   "metadata": {
    "collapsed": true
   },
   "outputs": [],
   "source": [
    "# test/train split\n",
    "X_train, X_test, y_train, y_test = train_test_split(X, y, test_size=0.3, random_state=0)"
   ]
  },
  {
   "cell_type": "code",
   "execution_count": 12,
   "metadata": {
    "collapsed": false
   },
   "outputs": [
    {
     "data": {
      "text/plain": [
       "RandomForestClassifier(bootstrap=True, class_weight='balanced',\n",
       "            criterion='gini', max_depth=None, max_features=None,\n",
       "            max_leaf_nodes=None, min_impurity_split=1e-07,\n",
       "            min_samples_leaf=1, min_samples_split=2,\n",
       "            min_weight_fraction_leaf=0.0, n_estimators=200, n_jobs=1,\n",
       "            oob_score=False, random_state=None, verbose=0,\n",
       "            warm_start=False)"
      ]
     },
     "execution_count": 12,
     "metadata": {},
     "output_type": "execute_result"
    }
   ],
   "source": [
    "# random forest\n",
    "rf = RandomForestClassifier(class_weight='balanced')\n",
    "rf_opt = GridSearchCV(rf, param_grid=[{\"n_estimators\": [100,200,300], \"max_features\": [None, 'sqrt', 'log2']}])\n",
    "rf_opt.fit(X_train, y_train)\n",
    "\n",
    "rf = rf_opt.best_estimator_\n",
    "rf.fit(X_train, y_train)"
   ]
  },
  {
   "cell_type": "code",
   "execution_count": 13,
   "metadata": {
    "collapsed": false
   },
   "outputs": [
    {
     "name": "stdout",
     "output_type": "stream",
     "text": [
      "0.985549840311\n",
      "[[4523   71]\n",
      " [   8  587]]\n",
      "0.622170686456\n",
      "[[1890   90]\n",
      " [ 174   71]]\n"
     ]
    }
   ],
   "source": [
    "prediction_train = rf.predict(X_train)\n",
    "prediction_test = rf.predict(X_test)\n",
    "\n",
    "print roc_auc_score(y_train, prediction_train) \n",
    "print confusion_matrix(y_train, prediction_train)\n",
    "\n",
    "print roc_auc_score(y_test, prediction_test)\n",
    "print confusion_matrix(y_test, prediction_test)"
   ]
  },
  {
   "cell_type": "code",
   "execution_count": 14,
   "metadata": {
    "collapsed": false
   },
   "outputs": [
    {
     "name": "stdout",
     "output_type": "stream",
     "text": [
      "no     6574\n",
      "yes     840\n",
      "Name: responded, dtype: int64\n",
      "1.0    4594\n",
      "0.0    4594\n",
      "Name: 0, dtype: int64\n"
     ]
    }
   ],
   "source": [
    "# smote oversampling\n",
    "sm = SMOTE(random_state=42)\n",
    "X_res, y_res = sm.fit_sample(X_train, y_train)\n",
    "print df['responded'].value_counts()\n",
    "print pd.DataFrame(y_res)[0].value_counts()"
   ]
  },
  {
   "cell_type": "code",
   "execution_count": 15,
   "metadata": {
    "collapsed": false
   },
   "outputs": [
    {
     "name": "stderr",
     "output_type": "stream",
     "text": [
      "C:\\Users\\ohong\\Anaconda2\\lib\\site-packages\\sklearn\\neural_network\\multilayer_perceptron.py:563: ConvergenceWarning: Stochastic Optimizer: Maximum iterations reached and the optimization hasn't converged yet.\n",
      "  % (), ConvergenceWarning)\n"
     ]
    },
    {
     "data": {
      "text/plain": [
       "MLPClassifier(activation='relu', alpha=0.0001, batch_size='auto', beta_1=0.9,\n",
       "       beta_2=0.999, early_stopping=False, epsilon=1e-08,\n",
       "       hidden_layer_sizes=(100,), learning_rate='constant',\n",
       "       learning_rate_init=0.001, max_iter=200, momentum=0.9,\n",
       "       nesterovs_momentum=True, power_t=0.5, random_state=None,\n",
       "       shuffle=True, solver='adam', tol=0.0001, validation_fraction=0.1,\n",
       "       verbose=False, warm_start=False)"
      ]
     },
     "execution_count": 15,
     "metadata": {},
     "output_type": "execute_result"
    }
   ],
   "source": [
    "# neural network\n",
    "\n",
    "# standardize data\n",
    "scaler = StandardScaler()\n",
    "scaler.fit(X_res)\n",
    "X_train_s = scaler.transform(X_res)\n",
    "X_test_s = scaler.transform(X_test)\n",
    "\n",
    "mlp = MLPClassifier()\n",
    "mlp_opt = GridSearchCV(mlp, param_grid={'learning_rate_init': [0.01, 0.005, 0.001], 'activation': [\"relu\", \"logistic\", \"tanh\"]})\n",
    "mlp_opt.fit(X_train_s, y_res)\n",
    "\n",
    "mlp = mlp_opt.best_estimator_\n",
    "mlp.fit(X_train_s, y_res)"
   ]
  },
  {
   "cell_type": "code",
   "execution_count": 16,
   "metadata": {
    "collapsed": false
   },
   "outputs": [
    {
     "name": "stdout",
     "output_type": "stream",
     "text": [
      "0.962124510231\n",
      "[[4372  222]\n",
      " [ 126 4468]]\n",
      "0.650273139559\n",
      "[[1775  205]\n",
      " [ 146   99]]\n"
     ]
    }
   ],
   "source": [
    "prediction_train = mlp.predict(X_train_s)\n",
    "prediction_test = mlp.predict(X_test_s)\n",
    "\n",
    "print roc_auc_score(y_res, prediction_train) \n",
    "print confusion_matrix(y_res, prediction_train)\n",
    "\n",
    "print roc_auc_score(y_test, prediction_test)\n",
    "print confusion_matrix(y_test, prediction_test)"
   ]
  },
  {
   "cell_type": "code",
   "execution_count": 17,
   "metadata": {
    "collapsed": false
   },
   "outputs": [
    {
     "data": {
      "text/plain": [
       "LogisticRegression(C=100, class_weight='balanced', dual=False,\n",
       "          fit_intercept=True, intercept_scaling=1, max_iter=100,\n",
       "          multi_class='ovr', n_jobs=1, penalty='l2', random_state=None,\n",
       "          solver='liblinear', tol=0.0001, verbose=0, warm_start=False)"
      ]
     },
     "execution_count": 17,
     "metadata": {},
     "output_type": "execute_result"
    }
   ],
   "source": [
    "# logistic\n",
    "\n",
    "log = LogisticRegression(class_weight='balanced')\n",
    "log_opt = GridSearchCV(log, param_grid={'C': [0.001, 0.01, 0.1, 1, 10, 100, 1000] })\n",
    "log_opt.fit(X_train, y_train)\n",
    "\n",
    "log = log_opt.best_estimator_\n",
    "log.fit(X_train, y_train)"
   ]
  },
  {
   "cell_type": "code",
   "execution_count": 18,
   "metadata": {
    "collapsed": false
   },
   "outputs": [
    {
     "name": "stdout",
     "output_type": "stream",
     "text": [
      "0.752812949298\n",
      "[[3813  781]\n",
      " [ 193  402]]\n",
      "0.737327355184\n",
      "[[1651  329]\n",
      " [  88  157]]\n"
     ]
    }
   ],
   "source": [
    "prediction_train = log.predict(X_train)\n",
    "prediction_test = log.predict(X_test)\n",
    "\n",
    "print roc_auc_score(y_train, prediction_train) \n",
    "print confusion_matrix(y_train, prediction_train)\n",
    "\n",
    "print roc_auc_score(y_test, prediction_test)\n",
    "print confusion_matrix(y_test, prediction_test)"
   ]
  },
  {
   "cell_type": "markdown",
   "metadata": {},
   "source": [
    "# Getting predictions"
   ]
  },
  {
   "cell_type": "code",
   "execution_count": 19,
   "metadata": {
    "collapsed": false
   },
   "outputs": [
    {
     "data": {
      "text/html": [
       "<div>\n",
       "<table border=\"1\" class=\"dataframe\">\n",
       "  <thead>\n",
       "    <tr style=\"text-align: right;\">\n",
       "      <th></th>\n",
       "      <th>custAge</th>\n",
       "      <th>profession</th>\n",
       "      <th>marital</th>\n",
       "      <th>schooling</th>\n",
       "      <th>default</th>\n",
       "      <th>housing</th>\n",
       "      <th>loan</th>\n",
       "      <th>contact</th>\n",
       "      <th>month</th>\n",
       "      <th>day_of_week</th>\n",
       "      <th>...</th>\n",
       "      <th>pdays</th>\n",
       "      <th>previous</th>\n",
       "      <th>poutcome</th>\n",
       "      <th>erate</th>\n",
       "      <th>cpi</th>\n",
       "      <th>cci</th>\n",
       "      <th>euribor3m</th>\n",
       "      <th>nremploy</th>\n",
       "      <th>pmonths</th>\n",
       "      <th>pastEmail</th>\n",
       "    </tr>\n",
       "  </thead>\n",
       "  <tbody>\n",
       "    <tr>\n",
       "      <th>0</th>\n",
       "      <td>NaN</td>\n",
       "      <td>entrepreneur</td>\n",
       "      <td>married</td>\n",
       "      <td>university.degree</td>\n",
       "      <td>no</td>\n",
       "      <td>yes</td>\n",
       "      <td>no</td>\n",
       "      <td>cellular</td>\n",
       "      <td>jul</td>\n",
       "      <td>wed</td>\n",
       "      <td>...</td>\n",
       "      <td>999</td>\n",
       "      <td>0</td>\n",
       "      <td>nonexistent</td>\n",
       "      <td>1.4</td>\n",
       "      <td>93.918</td>\n",
       "      <td>-42.7</td>\n",
       "      <td>4.963</td>\n",
       "      <td>5228.1</td>\n",
       "      <td>999.0</td>\n",
       "      <td>0</td>\n",
       "    </tr>\n",
       "    <tr>\n",
       "      <th>1</th>\n",
       "      <td>58.0</td>\n",
       "      <td>entrepreneur</td>\n",
       "      <td>married</td>\n",
       "      <td>university.degree</td>\n",
       "      <td>unknown</td>\n",
       "      <td>no</td>\n",
       "      <td>no</td>\n",
       "      <td>telephone</td>\n",
       "      <td>jun</td>\n",
       "      <td>fri</td>\n",
       "      <td>...</td>\n",
       "      <td>999</td>\n",
       "      <td>0</td>\n",
       "      <td>nonexistent</td>\n",
       "      <td>1.4</td>\n",
       "      <td>94.465</td>\n",
       "      <td>-41.8</td>\n",
       "      <td>4.959</td>\n",
       "      <td>5228.1</td>\n",
       "      <td>999.0</td>\n",
       "      <td>0</td>\n",
       "    </tr>\n",
       "    <tr>\n",
       "      <th>2</th>\n",
       "      <td>48.0</td>\n",
       "      <td>entrepreneur</td>\n",
       "      <td>married</td>\n",
       "      <td>NaN</td>\n",
       "      <td>no</td>\n",
       "      <td>no</td>\n",
       "      <td>no</td>\n",
       "      <td>cellular</td>\n",
       "      <td>jul</td>\n",
       "      <td>mon</td>\n",
       "      <td>...</td>\n",
       "      <td>999</td>\n",
       "      <td>0</td>\n",
       "      <td>nonexistent</td>\n",
       "      <td>1.4</td>\n",
       "      <td>93.918</td>\n",
       "      <td>-42.7</td>\n",
       "      <td>4.960</td>\n",
       "      <td>5228.1</td>\n",
       "      <td>999.0</td>\n",
       "      <td>0</td>\n",
       "    </tr>\n",
       "    <tr>\n",
       "      <th>3</th>\n",
       "      <td>35.0</td>\n",
       "      <td>blue-collar</td>\n",
       "      <td>married</td>\n",
       "      <td>NaN</td>\n",
       "      <td>no</td>\n",
       "      <td>yes</td>\n",
       "      <td>no</td>\n",
       "      <td>telephone</td>\n",
       "      <td>jun</td>\n",
       "      <td>tue</td>\n",
       "      <td>...</td>\n",
       "      <td>999</td>\n",
       "      <td>0</td>\n",
       "      <td>nonexistent</td>\n",
       "      <td>1.4</td>\n",
       "      <td>94.465</td>\n",
       "      <td>-41.8</td>\n",
       "      <td>4.864</td>\n",
       "      <td>5228.1</td>\n",
       "      <td>999.0</td>\n",
       "      <td>0</td>\n",
       "    </tr>\n",
       "    <tr>\n",
       "      <th>4</th>\n",
       "      <td>39.0</td>\n",
       "      <td>blue-collar</td>\n",
       "      <td>married</td>\n",
       "      <td>basic.6y</td>\n",
       "      <td>no</td>\n",
       "      <td>no</td>\n",
       "      <td>no</td>\n",
       "      <td>cellular</td>\n",
       "      <td>jul</td>\n",
       "      <td>mon</td>\n",
       "      <td>...</td>\n",
       "      <td>999</td>\n",
       "      <td>0</td>\n",
       "      <td>nonexistent</td>\n",
       "      <td>1.4</td>\n",
       "      <td>93.918</td>\n",
       "      <td>-42.7</td>\n",
       "      <td>4.960</td>\n",
       "      <td>5228.1</td>\n",
       "      <td>999.0</td>\n",
       "      <td>0</td>\n",
       "    </tr>\n",
       "  </tbody>\n",
       "</table>\n",
       "<p>5 rows × 21 columns</p>\n",
       "</div>"
      ],
      "text/plain": [
       "   custAge    profession  marital          schooling  default housing loan  \\\n",
       "0      NaN  entrepreneur  married  university.degree       no     yes   no   \n",
       "1     58.0  entrepreneur  married  university.degree  unknown      no   no   \n",
       "2     48.0  entrepreneur  married                NaN       no      no   no   \n",
       "3     35.0   blue-collar  married                NaN       no     yes   no   \n",
       "4     39.0   blue-collar  married           basic.6y       no      no   no   \n",
       "\n",
       "     contact month day_of_week    ...      pdays  previous     poutcome erate  \\\n",
       "0   cellular   jul         wed    ...        999         0  nonexistent   1.4   \n",
       "1  telephone   jun         fri    ...        999         0  nonexistent   1.4   \n",
       "2   cellular   jul         mon    ...        999         0  nonexistent   1.4   \n",
       "3  telephone   jun         tue    ...        999         0  nonexistent   1.4   \n",
       "4   cellular   jul         mon    ...        999         0  nonexistent   1.4   \n",
       "\n",
       "      cpi   cci  euribor3m  nremploy  pmonths  pastEmail  \n",
       "0  93.918 -42.7      4.963    5228.1    999.0          0  \n",
       "1  94.465 -41.8      4.959    5228.1    999.0          0  \n",
       "2  93.918 -42.7      4.960    5228.1    999.0          0  \n",
       "3  94.465 -41.8      4.864    5228.1    999.0          0  \n",
       "4  93.918 -42.7      4.960    5228.1    999.0          0  \n",
       "\n",
       "[5 rows x 21 columns]"
      ]
     },
     "execution_count": 19,
     "metadata": {},
     "output_type": "execute_result"
    }
   ],
   "source": [
    "df2 = pd.read_csv('marketing_test.csv')\n",
    "df_test = df2.rename(columns={'emp.var.rate': 'erate', 'cons.price.idx': 'cpi', 'cons.conf.idx':'cci', 'nr.employed':'nremploy'})\n",
    "df_test = df_test.drop(['Unnamed: 0'], axis=1)\n",
    "df_test.head()"
   ]
  },
  {
   "cell_type": "code",
   "execution_count": 20,
   "metadata": {
    "collapsed": false
   },
   "outputs": [],
   "source": [
    "# repeat preprocessing\n",
    "\n",
    "df_test = missingvalues(df_test)\n",
    "df_test = binningvalues(df_test)"
   ]
  },
  {
   "cell_type": "code",
   "execution_count": 21,
   "metadata": {
    "collapsed": false
   },
   "outputs": [],
   "source": [
    "formula = 'C(custAge_bin) + C(profession) + C(marital) + C(schooling) + C(default) + C(housing) + C(loan) +\\\n",
    "C(contact) + C(month) + C(campaign_bin) + C(pdays_bin) + C(poutcome) + erate + cpi + cci + euribor3m + nremploy'\n",
    "\n",
    "X_final = dmatrix(formula, df_test, return_type='dataframe')"
   ]
  },
  {
   "cell_type": "code",
   "execution_count": 22,
   "metadata": {
    "collapsed": false
   },
   "outputs": [
    {
     "name": "stdout",
     "output_type": "stream",
     "text": [
      "set(['C(schooling)[T.professional.course]', 'C(default)[T.yes]'])\n"
     ]
    }
   ],
   "source": [
    "# find which dummy columns are missing in test\n",
    "print set(X.columns.values)^set(X_final.columns.values)\n",
    "\n",
    "# create those columns with 0s\n",
    "X_final['C(default)[T.yes]'] = 0 \n",
    "X_final['C(schooling)[T.professional.course]'] = 0 "
   ]
  },
  {
   "cell_type": "code",
   "execution_count": 23,
   "metadata": {
    "collapsed": false
   },
   "outputs": [
    {
     "data": {
      "text/html": [
       "<div>\n",
       "<table border=\"1\" class=\"dataframe\">\n",
       "  <thead>\n",
       "    <tr style=\"text-align: right;\">\n",
       "      <th></th>\n",
       "      <th>Unnamed: 0</th>\n",
       "      <th>custAge</th>\n",
       "      <th>profession</th>\n",
       "      <th>marital</th>\n",
       "      <th>schooling</th>\n",
       "      <th>default</th>\n",
       "      <th>housing</th>\n",
       "      <th>loan</th>\n",
       "      <th>contact</th>\n",
       "      <th>month</th>\n",
       "      <th>...</th>\n",
       "      <th>previous</th>\n",
       "      <th>poutcome</th>\n",
       "      <th>emp.var.rate</th>\n",
       "      <th>cons.price.idx</th>\n",
       "      <th>cons.conf.idx</th>\n",
       "      <th>euribor3m</th>\n",
       "      <th>nr.employed</th>\n",
       "      <th>pmonths</th>\n",
       "      <th>pastEmail</th>\n",
       "      <th>responded</th>\n",
       "    </tr>\n",
       "  </thead>\n",
       "  <tbody>\n",
       "    <tr>\n",
       "      <th>0</th>\n",
       "      <td>0</td>\n",
       "      <td>NaN</td>\n",
       "      <td>entrepreneur</td>\n",
       "      <td>married</td>\n",
       "      <td>university.degree</td>\n",
       "      <td>no</td>\n",
       "      <td>yes</td>\n",
       "      <td>no</td>\n",
       "      <td>cellular</td>\n",
       "      <td>jul</td>\n",
       "      <td>...</td>\n",
       "      <td>0</td>\n",
       "      <td>nonexistent</td>\n",
       "      <td>1.4</td>\n",
       "      <td>93.918</td>\n",
       "      <td>-42.7</td>\n",
       "      <td>4.963</td>\n",
       "      <td>5228.1</td>\n",
       "      <td>999.0</td>\n",
       "      <td>0</td>\n",
       "      <td>0.0</td>\n",
       "    </tr>\n",
       "    <tr>\n",
       "      <th>1</th>\n",
       "      <td>1</td>\n",
       "      <td>58.0</td>\n",
       "      <td>entrepreneur</td>\n",
       "      <td>married</td>\n",
       "      <td>university.degree</td>\n",
       "      <td>unknown</td>\n",
       "      <td>no</td>\n",
       "      <td>no</td>\n",
       "      <td>telephone</td>\n",
       "      <td>jun</td>\n",
       "      <td>...</td>\n",
       "      <td>0</td>\n",
       "      <td>nonexistent</td>\n",
       "      <td>1.4</td>\n",
       "      <td>94.465</td>\n",
       "      <td>-41.8</td>\n",
       "      <td>4.959</td>\n",
       "      <td>5228.1</td>\n",
       "      <td>999.0</td>\n",
       "      <td>0</td>\n",
       "      <td>0.0</td>\n",
       "    </tr>\n",
       "    <tr>\n",
       "      <th>2</th>\n",
       "      <td>2</td>\n",
       "      <td>48.0</td>\n",
       "      <td>entrepreneur</td>\n",
       "      <td>married</td>\n",
       "      <td>NaN</td>\n",
       "      <td>no</td>\n",
       "      <td>no</td>\n",
       "      <td>no</td>\n",
       "      <td>cellular</td>\n",
       "      <td>jul</td>\n",
       "      <td>...</td>\n",
       "      <td>0</td>\n",
       "      <td>nonexistent</td>\n",
       "      <td>1.4</td>\n",
       "      <td>93.918</td>\n",
       "      <td>-42.7</td>\n",
       "      <td>4.960</td>\n",
       "      <td>5228.1</td>\n",
       "      <td>999.0</td>\n",
       "      <td>0</td>\n",
       "      <td>0.0</td>\n",
       "    </tr>\n",
       "    <tr>\n",
       "      <th>3</th>\n",
       "      <td>3</td>\n",
       "      <td>35.0</td>\n",
       "      <td>blue-collar</td>\n",
       "      <td>married</td>\n",
       "      <td>NaN</td>\n",
       "      <td>no</td>\n",
       "      <td>yes</td>\n",
       "      <td>no</td>\n",
       "      <td>telephone</td>\n",
       "      <td>jun</td>\n",
       "      <td>...</td>\n",
       "      <td>0</td>\n",
       "      <td>nonexistent</td>\n",
       "      <td>1.4</td>\n",
       "      <td>94.465</td>\n",
       "      <td>-41.8</td>\n",
       "      <td>4.864</td>\n",
       "      <td>5228.1</td>\n",
       "      <td>999.0</td>\n",
       "      <td>0</td>\n",
       "      <td>0.0</td>\n",
       "    </tr>\n",
       "    <tr>\n",
       "      <th>4</th>\n",
       "      <td>4</td>\n",
       "      <td>39.0</td>\n",
       "      <td>blue-collar</td>\n",
       "      <td>married</td>\n",
       "      <td>basic.6y</td>\n",
       "      <td>no</td>\n",
       "      <td>no</td>\n",
       "      <td>no</td>\n",
       "      <td>cellular</td>\n",
       "      <td>jul</td>\n",
       "      <td>...</td>\n",
       "      <td>0</td>\n",
       "      <td>nonexistent</td>\n",
       "      <td>1.4</td>\n",
       "      <td>93.918</td>\n",
       "      <td>-42.7</td>\n",
       "      <td>4.960</td>\n",
       "      <td>5228.1</td>\n",
       "      <td>999.0</td>\n",
       "      <td>0</td>\n",
       "      <td>0.0</td>\n",
       "    </tr>\n",
       "  </tbody>\n",
       "</table>\n",
       "<p>5 rows × 23 columns</p>\n",
       "</div>"
      ],
      "text/plain": [
       "   Unnamed: 0  custAge    profession  marital          schooling  default  \\\n",
       "0           0      NaN  entrepreneur  married  university.degree       no   \n",
       "1           1     58.0  entrepreneur  married  university.degree  unknown   \n",
       "2           2     48.0  entrepreneur  married                NaN       no   \n",
       "3           3     35.0   blue-collar  married                NaN       no   \n",
       "4           4     39.0   blue-collar  married           basic.6y       no   \n",
       "\n",
       "  housing loan    contact month    ...     previous     poutcome  \\\n",
       "0     yes   no   cellular   jul    ...            0  nonexistent   \n",
       "1      no   no  telephone   jun    ...            0  nonexistent   \n",
       "2      no   no   cellular   jul    ...            0  nonexistent   \n",
       "3     yes   no  telephone   jun    ...            0  nonexistent   \n",
       "4      no   no   cellular   jul    ...            0  nonexistent   \n",
       "\n",
       "   emp.var.rate  cons.price.idx cons.conf.idx  euribor3m  nr.employed  \\\n",
       "0           1.4          93.918         -42.7      4.963       5228.1   \n",
       "1           1.4          94.465         -41.8      4.959       5228.1   \n",
       "2           1.4          93.918         -42.7      4.960       5228.1   \n",
       "3           1.4          94.465         -41.8      4.864       5228.1   \n",
       "4           1.4          93.918         -42.7      4.960       5228.1   \n",
       "\n",
       "   pmonths  pastEmail  responded  \n",
       "0    999.0          0        0.0  \n",
       "1    999.0          0        0.0  \n",
       "2    999.0          0        0.0  \n",
       "3    999.0          0        0.0  \n",
       "4    999.0          0        0.0  \n",
       "\n",
       "[5 rows x 23 columns]"
      ]
     },
     "execution_count": 23,
     "metadata": {},
     "output_type": "execute_result"
    }
   ],
   "source": [
    "# fit data on entire training\n",
    "rf.fit(X, y)\n",
    "final_pred = rf.predict(X_final)\n",
    "\n",
    "# attach predictions to original data\n",
    "df2['responded'] = pd.Series(final_pred, index=df2.index)\n",
    "df2.head()"
   ]
  },
  {
   "cell_type": "code",
   "execution_count": 24,
   "metadata": {
    "collapsed": false
   },
   "outputs": [],
   "source": [
    "df2.to_csv('predictions.csv')"
   ]
  },
  {
   "cell_type": "code",
   "execution_count": 25,
   "metadata": {
    "collapsed": false
   },
   "outputs": [
    {
     "data": {
      "text/plain": [
       "0.0    777\n",
       "1.0     47\n",
       "Name: responded, dtype: int64"
      ]
     },
     "execution_count": 25,
     "metadata": {},
     "output_type": "execute_result"
    }
   ],
   "source": [
    "df2['responded'].value_counts()"
   ]
  }
 ],
 "metadata": {
  "anaconda-cloud": {},
  "kernelspec": {
   "display_name": "Python [Root]",
   "language": "python",
   "name": "Python [Root]"
  },
  "language_info": {
   "codemirror_mode": {
    "name": "ipython",
    "version": 2
   },
   "file_extension": ".py",
   "mimetype": "text/x-python",
   "name": "python",
   "nbconvert_exporter": "python",
   "pygments_lexer": "ipython2",
   "version": "2.7.12"
  }
 },
 "nbformat": 4,
 "nbformat_minor": 0
}
